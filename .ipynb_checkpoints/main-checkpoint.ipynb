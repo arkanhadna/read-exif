{
 "cells": [
  {
   "cell_type": "code",
   "execution_count": 1,
   "id": "4019527d",
   "metadata": {},
   "outputs": [],
   "source": [
    "import os\n",
    "from PIL import Image\n",
    "from PIL.ExifTags import TAGS\n",
    "import pandas as pd\n",
    "from tqdm import tqdm\n",
    "from concurrent.futures import ThreadPoolExecutor\n",
    "import csv\n",
    "from fractions import Fraction"
   ]
  },
  {
   "cell_type": "code",
   "execution_count": 2,
   "id": "1413eb39",
   "metadata": {},
   "outputs": [],
   "source": [
    "def get_exif_data(image_path):\n",
    "    \"\"\"Extract EXIF data from an image and sanitize values.\"\"\"\n",
    "    try:\n",
    "        img = Image.open(image_path)\n",
    "        exif_data = img._getexif()\n",
    "        if exif_data:\n",
    "            exif = {}\n",
    "            for tag_id, value in exif_data.items():\n",
    "                tag_name = TAGS.get(tag_id, tag_id)\n",
    "                # Sanitize data: Convert all values to strings and handle None\n",
    "                if isinstance(value, bytes):\n",
    "                    value = value.decode(errors='replace')  # Decode bytes\n",
    "                exif[tag_name] = str(value) if value is not None else \"\"\n",
    "            return exif\n",
    "        else:\n",
    "            return None\n",
    "    except Exception as e:\n",
    "        print(f\"Error processing {image_path}: {str(e)}\")\n",
    "        return None\n",
    "    "
   ]
  },
  {
   "cell_type": "code",
   "execution_count": 3,
   "id": "c6fbdabe",
   "metadata": {},
   "outputs": [],
   "source": [
    "# parallel processing\n",
    "\n",
    "def scan_directory(root_dir):\n",
    "    data = []\n",
    "    extensions = ['.jpg', '.jpeg', '.tiff', '.png']\n",
    "    \n",
    "    with ThreadPoolExecutor() as executor:\n",
    "        futures = []\n",
    "        # Capture file and image_path at submission time\n",
    "        for root, dirs, files in os.walk(root_dir):\n",
    "            for file in files:\n",
    "                if os.path.splitext(file)[1].lower() in extensions:\n",
    "                    image_path = os.path.join(root, file)\n",
    "                    # Submit a task with explicit arguments (file, image_path)\n",
    "                    futures.append(\n",
    "                        executor.submit(\n",
    "                            lambda ip=image_path, fl=file: get_exif_data_with_file(ip, fl)\n",
    "                        )\n",
    "                    )\n",
    "        \n",
    "        # Process results\n",
    "        for future in tqdm(futures, desc=\"Processing images\"):\n",
    "            exif = future.result()\n",
    "            if exif:\n",
    "                data.append(exif)\n",
    "    return data\n",
    "\n",
    "def get_exif_data_with_file(image_path, file):\n",
    "    \"\"\"Wrapper function to add filename/path during processing.\"\"\"\n",
    "    exif = get_exif_data(image_path)  # Your original get_exif_data function\n",
    "    if exif:\n",
    "        exif['Filename'] = file\n",
    "        exif['Filepath'] = image_path\n",
    "    return exif"
   ]
  },
  {
   "cell_type": "code",
   "execution_count": 4,
   "id": "b9a2d20c",
   "metadata": {},
   "outputs": [],
   "source": [
    "def convert_exposure_time(exposure_str):\n",
    "    \"\"\"Convert ExposureTime (decimal or tuple) to fraction string.\"\"\"\n",
    "    if not exposure_str or pd.isna(exposure_str):\n",
    "        return \"\"\n",
    "    try:\n",
    "        # Case 1: ExposureTime is a tuple string like \"(1, 125)\"\n",
    "        if exposure_str.startswith('(') and exposure_str.endswith(')'):\n",
    "            num_den = exposure_str[1:-1].split(',')\n",
    "            numerator = int(num_den[0].strip())\n",
    "            denominator = int(num_den[1].strip())\n",
    "            if denominator == 1:\n",
    "                return f\"{numerator}\"\n",
    "            else:\n",
    "                return f\"{numerator}/{denominator}\"\n",
    "        # Case 2: ExposureTime is a decimal string like \"0.008\"\n",
    "        else:\n",
    "            exposure_float = float(exposure_str)\n",
    "            frac = Fraction(exposure_float).limit_denominator(1000)\n",
    "            if frac.denominator == 1:\n",
    "                return f\"{frac.numerator}\"\n",
    "            else:\n",
    "                return f\"{frac.numerator}/{frac.denominator}\"\n",
    "    except:\n",
    "        return \"\""
   ]
  },
  {
   "cell_type": "code",
   "execution_count": 5,
   "id": "aeb1ade1",
   "metadata": {},
   "outputs": [
    {
     "name": "stderr",
     "output_type": "stream",
     "text": [
      "Processing images: 100%|████████████████████████████████████████████████████████████| 422/422 [00:00<00:00, 603.62it/s]\n"
     ]
    },
    {
     "name": "stdout",
     "output_type": "stream",
     "text": [
      "Data saved to exif_data.csv\n"
     ]
    }
   ],
   "source": [
    "def main():\n",
    "    root_dir = \"../Photo & Design/20241229 - Family Session/\"  # Change this to your directory\n",
    "    output_csv = \"exif_data.csv\"\n",
    "    \n",
    "    # Collect all EXIF data\n",
    "    exif_data = scan_directory(root_dir)\n",
    "    \n",
    "    # Convert to DataFrame and save as CSV\n",
    "    if exif_data:\n",
    "        df = pd.DataFrame(exif_data)\n",
    "        \n",
    "        df = df.apply(lambda x: x.str.strip() if x.dtype == 'object' else x)\n",
    "\n",
    "#         unwanted_columns = ['PrintImageMatching', 'MakerNote','UserComment','GPSInfo']\n",
    "#         df = df.drop(columns=unwanted_columns, errors='ignore')  # Ignore if column doesn't exist\n",
    "\n",
    "        # Add ExposureFraction column\n",
    "        df['ExposureFraction'] = df['ExposureTime'].apply(convert_exposure_time)\n",
    "\n",
    "        # Reorder columns to ensure 'Filename' is first\n",
    "        columns = ['Filename'] + [col for col in df.columns if col != 'Filename']\n",
    "        df = df[columns]\n",
    "        \n",
    "        # Columns to export\n",
    "        df1 = df[[\"Filename\",\"Make\",\"Model\",\"DateTime\",\"YResolution\",\"XResolution\",\n",
    "                 \"ExposureBiasValue\",\"MaxApertureValue\",\"Flash\",\"FocalLength\",\"FocalLengthIn35mmFilm\",\n",
    "                 \"ExifImageWidth\",\"ExifImageHeight\",\"FNumber\",\"ISOSpeedRatings\",\"ExposureFraction\",\n",
    "                 \"LensModel\",\"Filepath\"]]\n",
    "\n",
    "        # Fix CSV escaping issues by quoting all fields and specifying an escape character\n",
    "        df1.to_csv(\n",
    "            output_csv,\n",
    "            index=False,\n",
    "            quoting=csv.QUOTE_ALL,  # Enclose all fields in quotes\n",
    "            escapechar='\\\\',         # Use backslash to escape special chars\n",
    "            encoding='utf-8'\n",
    "        )\n",
    "        print(f\"Data saved to {output_csv}\")\n",
    "    else:\n",
    "        print(\"No EXIF data found.\")\n",
    "        \n",
    "if __name__ == \"__main__\":\n",
    "    main()"
   ]
  },
  {
   "cell_type": "code",
   "execution_count": null,
   "id": "e845067f",
   "metadata": {},
   "outputs": [],
   "source": []
  }
 ],
 "metadata": {
  "kernelspec": {
   "display_name": "Python 3 (ipykernel)",
   "language": "python",
   "name": "python3"
  },
  "language_info": {
   "codemirror_mode": {
    "name": "ipython",
    "version": 3
   },
   "file_extension": ".py",
   "mimetype": "text/x-python",
   "name": "python",
   "nbconvert_exporter": "python",
   "pygments_lexer": "ipython3",
   "version": "3.10.9"
  }
 },
 "nbformat": 4,
 "nbformat_minor": 5
}
